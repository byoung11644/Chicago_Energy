{
 "cells": [
  {
   "cell_type": "code",
   "execution_count": 70,
   "metadata": {},
   "outputs": [],
   "source": [
    "import requests"
   ]
  },
  {
   "cell_type": "code",
   "execution_count": 71,
   "metadata": {},
   "outputs": [],
   "source": [
    "import pandas\n",
    "import os\n",
    "import matplotlib as plt\n",
    "import numpy as np"
   ]
  },
  {
   "cell_type": "code",
   "execution_count": 72,
   "metadata": {},
   "outputs": [],
   "source": [
    "from API_Key_Config import census_key"
   ]
  },
  {
   "cell_type": "code",
   "execution_count": 73,
   "metadata": {},
   "outputs": [],
   "source": [
    "#Population Estimates\n",
    "sample_api = \"api.census.gov/data/2019/pep/population?get=COUNTY,DATE_CODE,DATE_DESC,DENSITY,POP,NAME,STATE&for=region:*&key=YOUR_KEY\"\n",
    "\n",
    "base_url =  \"https://api.census.gov/data\""
   ]
  },
  {
   "cell_type": "code",
   "execution_count": 74,
   "metadata": {},
   "outputs": [],
   "source": [
    "#Time Series Economic Indicators Time Series -: Housing Vacancies and Homeownership\n",
    "housing_timeseries = \"timeseries/eits/hv\""
   ]
  },
  {
   "cell_type": "code",
   "execution_count": 75,
   "metadata": {},
   "outputs": [],
   "source": [
    "#Economic Census: Economic Census of the United States: Commodity Flow Survey Geographic Area Data\n",
    "commodity_flow = \"2012/cfsarea\""
   ]
  },
  {
   "cell_type": "code",
   "execution_count": 76,
   "metadata": {},
   "outputs": [],
   "source": [
    "#Utilities: Subject Series - Misc Subjects: Exported Energy to Canada and Mexico for the U.S.: 2012.\n",
    "utilities_export = \"2012/ecnexpnrg\""
   ]
  },
  {
   "cell_type": "code",
   "execution_count": 77,
   "metadata": {},
   "outputs": [],
   "source": [
    "#Current Population Survey: Time Series Current Population Survey: Poverty Status\n",
    "poverty_timeseries = \"timeseries/poverty/histpov2\""
   ]
  },
  {
   "cell_type": "code",
   "execution_count": 78,
   "metadata": {},
   "outputs": [],
   "source": [
    "#Population Estimates\n",
    "pop_estimeates = \"2019/pep/population\""
   ]
  },
  {
   "cell_type": "code",
   "execution_count": 79,
   "metadata": {},
   "outputs": [],
   "source": [
    "time = \"&time=from+2010-01+to+2020-09\"\n",
    "#STName=Illinois\n"
   ]
  },
  {
   "cell_type": "code",
   "execution_count": 80,
   "metadata": {},
   "outputs": [],
   "source": [
    "#Examples\n",
    "#https://api.census.gov/data/2013/acs/acs1?get=NAME,B00001_001E&for=state:*&key=YOUR_KEY_GOES_HERE\n",
    "#https://api.census.gov/data/2013/acs/acs1?get=NAME,B00001_001E&for=metropolitan%20division:*&in=metropolitan%20statistical%20area/micropolitan%20statistical%20area:*&key=YOUR_KEY_GOES_HERE"
   ]
  },
  {
   "cell_type": "code",
   "execution_count": 81,
   "metadata": {},
   "outputs": [],
   "source": [
    "#housing_data = requests.get(base_url + housing_timeseries + \"?get=POP,STName\" + time + census_key)"
   ]
  },
  {
   "cell_type": "code",
   "execution_count": 82,
   "metadata": {},
   "outputs": [
    {
     "data": {
      "text/plain": [
       "'https://api.census.gov/data/2019/pep/components?get=NATURALINC,DOMESTICMIG,INTERNATIONALMIG&for=county:016&in=state:13&key=2ceeed1c2b992b506f8083f4d0e43b847cb753e2'"
      ]
     },
     "execution_count": 82,
     "metadata": {},
     "output_type": "execute_result"
    }
   ],
   "source": [
    "year='2019'\n",
    "dsource='pep'\n",
    "dname='components'\n",
    "cols='NATURALINC,DOMESTICMIG,INTERNATIONALMIG'\n",
    "state='13'\n",
    "county='016'\n",
    "\n",
    "\n",
    "report_url = f'{base_url}/{year}/{dsource}/{dname}'\n",
    "data_url = f'{report_url}?get={cols}&for=county:{county}&in=state:{state}&key={census_key}'\n",
    "data_url"
   ]
  },
  {
   "cell_type": "code",
   "execution_count": 83,
   "metadata": {},
   "outputs": [
    {
     "name": "stdout",
     "output_type": "stream",
     "text": [
      "<bound method Response.json of <Response [204]>>\n"
     ]
    }
   ],
   "source": [
    "census_response = requests.get(data_url).json\n",
    "print(census_response)"
   ]
  },
  {
   "cell_type": "code",
   "execution_count": 84,
   "metadata": {},
   "outputs": [
    {
     "name": "stdout",
     "output_type": "stream",
     "text": [
      "<bound method Response.json of <Response [422]>>\n"
     ]
    }
   ],
   "source": [
    "open_network = \"http://api.opendatanetwork.com/data/v1/map/new?variable=demographics.population.count&entity_id=0400000US53%2C0400000US08&constraint=&app_token=cQovpGcdUT1CSzgYk0KPYdAI0\"\n",
    "\n",
    "open_response = requests.get(open_network).json\n",
    "print(open_response)"
   ]
  },
  {
   "cell_type": "code",
   "execution_count": 85,
   "metadata": {},
   "outputs": [
    {
     "name": "stdout",
     "output_type": "stream",
     "text": [
      "<bound method Response.json of <Response [200]>>\n"
     ]
    }
   ],
   "source": [
    "open_data = \"https://api.opendatanetwork.com/data/v1/values?app_token=cQovpGcdUT1CSzgYk0KPYdAI0&describe=true&forecast=5&format=google&variable=demographics.population.count&entity_id=0500000US17031\"\n",
    "\n",
    "cook_county_response = requests.get(open_data).json\n",
    "print(cook_county_response)"
   ]
  },
  {
   "cell_type": "code",
   "execution_count": null,
   "metadata": {},
   "outputs": [],
   "source": []
  }
 ],
 "metadata": {
  "kernelspec": {
   "display_name": "Python 3",
   "language": "python",
   "name": "python3"
  },
  "language_info": {
   "codemirror_mode": {
    "name": "ipython",
    "version": 3
   },
   "file_extension": ".py",
   "mimetype": "text/x-python",
   "name": "python",
   "nbconvert_exporter": "python",
   "pygments_lexer": "ipython3",
   "version": "3.8.5"
  }
 },
 "nbformat": 4,
 "nbformat_minor": 4
}
